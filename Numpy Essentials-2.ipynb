{
 "cells": [
  {
   "cell_type": "markdown",
   "id": "0dd533cb",
   "metadata": {},
   "source": [
    "### Numpy Basics"
   ]
  },
  {
   "cell_type": "code",
   "execution_count": 1,
   "id": "bc6aed11",
   "metadata": {},
   "outputs": [],
   "source": [
    "import numpy as np"
   ]
  },
  {
   "cell_type": "markdown",
   "id": "351e6e2c",
   "metadata": {},
   "source": [
    "+ creat single & Multiple type array"
   ]
  },
  {
   "cell_type": "markdown",
   "id": "790d1438",
   "metadata": {},
   "source": [
    "+ Single Dimension Numpy"
   ]
  },
  {
   "cell_type": "code",
   "execution_count": 2,
   "id": "61bc00be",
   "metadata": {},
   "outputs": [
    {
     "data": {
      "text/plain": [
       "array([   1,    2,   45,    7, 5343])"
      ]
     },
     "execution_count": 2,
     "metadata": {},
     "output_type": "execute_result"
    }
   ],
   "source": [
    "n1=np.array([1,2,45,7,5343])\n",
    "n1"
   ]
  },
  {
   "cell_type": "code",
   "execution_count": 3,
   "id": "fb55f4a4",
   "metadata": {},
   "outputs": [
    {
     "data": {
      "text/plain": [
       "numpy.ndarray"
      ]
     },
     "execution_count": 3,
     "metadata": {},
     "output_type": "execute_result"
    }
   ],
   "source": [
    "type(n1)"
   ]
  },
  {
   "cell_type": "code",
   "execution_count": 4,
   "id": "332b0c1a",
   "metadata": {},
   "outputs": [
    {
     "data": {
      "text/plain": [
       "array([[ 32,  45,   3,  24,   5],\n",
       "       [ 34,   5,   6, 734,   6]])"
      ]
     },
     "execution_count": 4,
     "metadata": {},
     "output_type": "execute_result"
    }
   ],
   "source": [
    "n2=np.array([[32,45,3,24,5],[34,5,6,734,6]])\n",
    "n2"
   ]
  },
  {
   "cell_type": "code",
   "execution_count": 5,
   "id": "f75ba521",
   "metadata": {},
   "outputs": [
    {
     "data": {
      "text/plain": [
       "numpy.ndarray"
      ]
     },
     "execution_count": 5,
     "metadata": {},
     "output_type": "execute_result"
    }
   ],
   "source": [
    "type(n2)"
   ]
  },
  {
   "cell_type": "code",
   "execution_count": 6,
   "id": "66fb1ba0",
   "metadata": {},
   "outputs": [
    {
     "data": {
      "text/plain": [
       "array([[23, 45,  2, 45,  3,  4],\n",
       "       [ 4, 34, 56, 34,  6,  3]])"
      ]
     },
     "execution_count": 6,
     "metadata": {},
     "output_type": "execute_result"
    }
   ],
   "source": [
    "n3=np.array([[23,45,2,45,3,4],[4,34,56,34,6,3]])\n",
    "n3"
   ]
  },
  {
   "cell_type": "code",
   "execution_count": 7,
   "id": "48ff320b",
   "metadata": {},
   "outputs": [
    {
     "data": {
      "text/plain": [
       "array([[0., 0.]])"
      ]
     },
     "execution_count": 7,
     "metadata": {},
     "output_type": "execute_result"
    }
   ],
   "source": [
    "n4=np.zeros((1,2))\n",
    "n4"
   ]
  },
  {
   "cell_type": "code",
   "execution_count": 8,
   "id": "408f928a",
   "metadata": {},
   "outputs": [
    {
     "data": {
      "text/plain": [
       "array([[0., 0., 0., 0., 0.],\n",
       "       [0., 0., 0., 0., 0.],\n",
       "       [0., 0., 0., 0., 0.],\n",
       "       [0., 0., 0., 0., 0.],\n",
       "       [0., 0., 0., 0., 0.]])"
      ]
     },
     "execution_count": 8,
     "metadata": {},
     "output_type": "execute_result"
    }
   ],
   "source": [
    "n5=np.zeros((5,5))\n",
    "n5"
   ]
  },
  {
   "cell_type": "code",
   "execution_count": 9,
   "id": "d9e75b05",
   "metadata": {},
   "outputs": [
    {
     "data": {
      "text/plain": [
       "array([[0., 0., 0.],\n",
       "       [0., 0., 0.]])"
      ]
     },
     "execution_count": 9,
     "metadata": {},
     "output_type": "execute_result"
    }
   ],
   "source": [
    "n6=np.zeros((2,3))\n",
    "n6"
   ]
  },
  {
   "cell_type": "code",
   "execution_count": 10,
   "id": "5469ef24",
   "metadata": {},
   "outputs": [
    {
     "data": {
      "text/plain": [
       "array([[0., 0., 0., 0., 0., 0.],\n",
       "       [0., 0., 0., 0., 0., 0.],\n",
       "       [0., 0., 0., 0., 0., 0.],\n",
       "       [0., 0., 0., 0., 0., 0.],\n",
       "       [0., 0., 0., 0., 0., 0.],\n",
       "       [0., 0., 0., 0., 0., 0.]])"
      ]
     },
     "execution_count": 10,
     "metadata": {},
     "output_type": "execute_result"
    }
   ],
   "source": [
    "n7=np.zeros((6,6))\n",
    "n7"
   ]
  },
  {
   "cell_type": "markdown",
   "id": "810a3427",
   "metadata": {},
   "source": [
    "+ creat 2 matrix full with 10"
   ]
  },
  {
   "cell_type": "code",
   "execution_count": 11,
   "id": "d42035c9",
   "metadata": {},
   "outputs": [
    {
     "data": {
      "text/plain": [
       "array([[10, 10],\n",
       "       [10, 10]])"
      ]
     },
     "execution_count": 11,
     "metadata": {},
     "output_type": "execute_result"
    }
   ],
   "source": [
    "n8=np.full((2,2),(10))\n",
    "n8\n",
    "#(2,2) are dimensions while it filled with 10"
   ]
  },
  {
   "cell_type": "code",
   "execution_count": 12,
   "id": "498e1ef1",
   "metadata": {},
   "outputs": [
    {
     "data": {
      "text/plain": [
       "array([[5, 5, 5, 5, 5],\n",
       "       [5, 5, 5, 5, 5],\n",
       "       [5, 5, 5, 5, 5],\n",
       "       [5, 5, 5, 5, 5],\n",
       "       [5, 5, 5, 5, 5]])"
      ]
     },
     "execution_count": 12,
     "metadata": {},
     "output_type": "execute_result"
    }
   ],
   "source": [
    "n9=np.full((5,5),(5))\n",
    "n9"
   ]
  },
  {
   "cell_type": "code",
   "execution_count": 13,
   "id": "e0383d4d",
   "metadata": {},
   "outputs": [
    {
     "data": {
      "text/plain": [
       "array([[9, 9, 9, 9, 9, 9],\n",
       "       [9, 9, 9, 9, 9, 9],\n",
       "       [9, 9, 9, 9, 9, 9]])"
      ]
     },
     "execution_count": 13,
     "metadata": {},
     "output_type": "execute_result"
    }
   ],
   "source": [
    "n10=np.full((3,6),(9))\n",
    "n10"
   ]
  },
  {
   "cell_type": "markdown",
   "id": "b40f38e1",
   "metadata": {},
   "source": [
    "### Initializing Numpy array within a range"
   ]
  },
  {
   "cell_type": "code",
   "execution_count": 14,
   "id": "eaa372e0",
   "metadata": {},
   "outputs": [
    {
     "data": {
      "text/plain": [
       "array([10, 11, 12, 13, 14, 15, 16, 17, 18, 19])"
      ]
     },
     "execution_count": 14,
     "metadata": {},
     "output_type": "execute_result"
    }
   ],
   "source": [
    "n1=np.arange(10,20)\n",
    "n1"
   ]
  },
  {
   "cell_type": "code",
   "execution_count": 15,
   "id": "3d5e7b05",
   "metadata": {},
   "outputs": [
    {
     "data": {
      "text/plain": [
       "array([20, 25, 30, 35, 40, 45])"
      ]
     },
     "execution_count": 15,
     "metadata": {},
     "output_type": "execute_result"
    }
   ],
   "source": [
    "n2=np.arange(20,50,5)\n",
    "n2"
   ]
  },
  {
   "cell_type": "code",
   "execution_count": 16,
   "id": "5746d980",
   "metadata": {},
   "outputs": [
    {
     "data": {
      "text/plain": [
       "array([23, 24, 25, 26, 27, 28, 29, 30, 31, 32, 33, 34, 35, 36, 37, 38, 39,\n",
       "       40, 41, 42, 43, 44, 45, 46, 47, 48, 49, 50, 51, 52, 53, 54, 55, 56,\n",
       "       57, 58, 59, 60, 61, 62, 63, 64, 65, 66, 67, 68, 69, 70, 71, 72, 73,\n",
       "       74, 75, 76, 77, 78, 79, 80, 81, 82, 83, 84, 85, 86, 87, 88, 89, 90,\n",
       "       91, 92, 93, 94, 95, 96, 97, 98, 99])"
      ]
     },
     "execution_count": 16,
     "metadata": {},
     "output_type": "execute_result"
    }
   ],
   "source": [
    "n3=np.arange(23,100)\n",
    "n3"
   ]
  },
  {
   "cell_type": "code",
   "execution_count": 17,
   "id": "f713f07d",
   "metadata": {},
   "outputs": [
    {
     "data": {
      "text/plain": [
       "array([23, 43, 63, 83])"
      ]
     },
     "execution_count": 17,
     "metadata": {},
     "output_type": "execute_result"
    }
   ],
   "source": [
    "n4=np.arange(23,100,20)\n",
    "n4"
   ]
  },
  {
   "cell_type": "markdown",
   "id": "5acd50b4",
   "metadata": {},
   "source": [
    "### Initializing Numpy array with random Numbers"
   ]
  },
  {
   "cell_type": "code",
   "execution_count": 18,
   "id": "b7a7f858",
   "metadata": {},
   "outputs": [
    {
     "data": {
      "text/plain": [
       "array([10, 11, 12, 13, 14, 15, 16, 17, 18, 19])"
      ]
     },
     "execution_count": 18,
     "metadata": {},
     "output_type": "execute_result"
    }
   ],
   "source": [
    "np1=np.random.randint(100,1000,10)\n",
    "n1"
   ]
  },
  {
   "cell_type": "markdown",
   "id": "59e14365",
   "metadata": {},
   "source": [
    "### Checking shape of Numpy arrays"
   ]
  },
  {
   "cell_type": "code",
   "execution_count": 19,
   "id": "e117f6fa",
   "metadata": {},
   "outputs": [
    {
     "data": {
      "text/plain": [
       "(2, 3)"
      ]
     },
     "execution_count": 19,
     "metadata": {},
     "output_type": "execute_result"
    }
   ],
   "source": [
    "n2=np.array([[2,3,4],[3,3,5]])\n",
    "n2.shape"
   ]
  },
  {
   "cell_type": "code",
   "execution_count": 20,
   "id": "06660be0",
   "metadata": {},
   "outputs": [
    {
     "data": {
      "text/plain": [
       "array([[2, 3],\n",
       "       [4, 3],\n",
       "       [3, 5]])"
      ]
     },
     "execution_count": 20,
     "metadata": {},
     "output_type": "execute_result"
    }
   ],
   "source": [
    "n2.shape=(3,2)\n",
    "n2"
   ]
  },
  {
   "cell_type": "code",
   "execution_count": 21,
   "id": "1279dfe1",
   "metadata": {},
   "outputs": [
    {
     "data": {
      "text/plain": [
       "(2, 3)"
      ]
     },
     "execution_count": 21,
     "metadata": {},
     "output_type": "execute_result"
    }
   ],
   "source": [
    "n4=np.array([[36,32,5],[2,31,5]])\n",
    "n4.shape"
   ]
  },
  {
   "cell_type": "code",
   "execution_count": 22,
   "id": "0fa145df",
   "metadata": {},
   "outputs": [
    {
     "data": {
      "text/plain": [
       "(3, 2)"
      ]
     },
     "execution_count": 22,
     "metadata": {},
     "output_type": "execute_result"
    }
   ],
   "source": [
    "n4.shape = (3,2)\n",
    "n4.shape"
   ]
  },
  {
   "cell_type": "markdown",
   "id": "5edac665",
   "metadata": {},
   "source": [
    "### Joining Numpy Arrays"
   ]
  },
  {
   "cell_type": "code",
   "execution_count": 23,
   "id": "28ec28a2",
   "metadata": {},
   "outputs": [
    {
     "data": {
      "text/plain": [
       "array([[ 10,  20,  33],\n",
       "       [100,  23, 200]])"
      ]
     },
     "execution_count": 23,
     "metadata": {},
     "output_type": "execute_result"
    }
   ],
   "source": [
    "n1=np.array([10,20,33])\n",
    "n2=np.array([100,23,200])\n",
    "np.vstack((n1,n2))"
   ]
  },
  {
   "cell_type": "code",
   "execution_count": 24,
   "id": "ea6ec4e9",
   "metadata": {},
   "outputs": [
    {
     "data": {
      "text/plain": [
       "array([100,  23, 200, 100,  23, 200])"
      ]
     },
     "execution_count": 24,
     "metadata": {},
     "output_type": "execute_result"
    }
   ],
   "source": [
    "np.hstack((n2,n2))"
   ]
  },
  {
   "cell_type": "code",
   "execution_count": 25,
   "id": "2e3fb31f",
   "metadata": {},
   "outputs": [
    {
     "data": {
      "text/plain": [
       "array([[ 10, 100],\n",
       "       [ 20,  23],\n",
       "       [ 33, 200]])"
      ]
     },
     "execution_count": 25,
     "metadata": {},
     "output_type": "execute_result"
    }
   ],
   "source": [
    "np.column_stack((n1,n2))"
   ]
  },
  {
   "cell_type": "markdown",
   "id": "e27ac64e",
   "metadata": {},
   "source": [
    "### Numpy Intersection & Difference"
   ]
  },
  {
   "cell_type": "code",
   "execution_count": 26,
   "id": "026eabe6",
   "metadata": {},
   "outputs": [],
   "source": [
    "n1=np.array([10,20,30,40,50])\n",
    "n2=([22,50,30])"
   ]
  },
  {
   "cell_type": "code",
   "execution_count": 27,
   "id": "88e30853",
   "metadata": {},
   "outputs": [
    {
     "data": {
      "text/plain": [
       "array([30, 50])"
      ]
     },
     "execution_count": 27,
     "metadata": {},
     "output_type": "execute_result"
    }
   ],
   "source": [
    "np.intersect1d(n1,n2)\n",
    "#it will show the common elements "
   ]
  },
  {
   "cell_type": "code",
   "execution_count": 28,
   "id": "d7d0dba0",
   "metadata": {},
   "outputs": [
    {
     "data": {
      "text/plain": [
       "array([10, 20, 40])"
      ]
     },
     "execution_count": 28,
     "metadata": {},
     "output_type": "execute_result"
    }
   ],
   "source": [
    "np.setdiff1d(n1,n2)\n",
    "#it will show the diffrent elements which is present in n1\n",
    "#and ignore the common "
   ]
  },
  {
   "cell_type": "code",
   "execution_count": 29,
   "id": "b122b82e",
   "metadata": {},
   "outputs": [
    {
     "data": {
      "text/plain": [
       "array([22])"
      ]
     },
     "execution_count": 29,
     "metadata": {},
     "output_type": "execute_result"
    }
   ],
   "source": [
    "np.setdiff1d(n2,n1)\n",
    "#it show the element of n2 which is different"
   ]
  },
  {
   "cell_type": "markdown",
   "id": "5a39856b",
   "metadata": {},
   "source": [
    "### Mathematics  Numpy array"
   ]
  },
  {
   "cell_type": "code",
   "execution_count": 30,
   "id": "14589a21",
   "metadata": {},
   "outputs": [],
   "source": [
    "n1=np.array([30,20])\n",
    "n2=np.array([10,20])"
   ]
  },
  {
   "cell_type": "code",
   "execution_count": 31,
   "id": "4964157a",
   "metadata": {},
   "outputs": [
    {
     "data": {
      "text/plain": [
       "80"
      ]
     },
     "execution_count": 31,
     "metadata": {},
     "output_type": "execute_result"
    }
   ],
   "source": [
    "np.sum([n1,n2])\n",
    "#it will sum n1 and n2 all elements"
   ]
  },
  {
   "cell_type": "code",
   "execution_count": 32,
   "id": "2b638c64",
   "metadata": {},
   "outputs": [
    {
     "data": {
      "text/plain": [
       "80"
      ]
     },
     "execution_count": 32,
     "metadata": {},
     "output_type": "execute_result"
    }
   ],
   "source": [
    "np.sum([n2,n1])"
   ]
  },
  {
   "cell_type": "code",
   "execution_count": 33,
   "id": "fdbf582f",
   "metadata": {},
   "outputs": [
    {
     "data": {
      "text/plain": [
       "array([40, 40])"
      ]
     },
     "execution_count": 33,
     "metadata": {},
     "output_type": "execute_result"
    }
   ],
   "source": [
    "np.sum([n1,n2],axis=0)"
   ]
  },
  {
   "cell_type": "code",
   "execution_count": 34,
   "id": "9a22e502",
   "metadata": {},
   "outputs": [
    {
     "data": {
      "text/plain": [
       "array([50, 30])"
      ]
     },
     "execution_count": 34,
     "metadata": {},
     "output_type": "execute_result"
    }
   ],
   "source": [
    "np.sum([n1,n2],axis=1)"
   ]
  },
  {
   "cell_type": "code",
   "execution_count": 35,
   "id": "ba0ff7ce",
   "metadata": {},
   "outputs": [],
   "source": [
    "### adding integer in array\n",
    "n11=np.array([1,2,3])\n",
    "n12=np.array([4,5,6])"
   ]
  },
  {
   "cell_type": "code",
   "execution_count": 36,
   "id": "6b3f0901",
   "metadata": {},
   "outputs": [],
   "source": [
    "# Addition"
   ]
  },
  {
   "cell_type": "code",
   "execution_count": 37,
   "id": "c6ba43d9",
   "metadata": {},
   "outputs": [
    {
     "data": {
      "text/plain": [
       "array([2, 3, 4])"
      ]
     },
     "execution_count": 37,
     "metadata": {},
     "output_type": "execute_result"
    }
   ],
   "source": [
    "n11+1"
   ]
  },
  {
   "cell_type": "code",
   "execution_count": 38,
   "id": "980468a7",
   "metadata": {},
   "outputs": [
    {
     "data": {
      "text/plain": [
       "array([24, 25, 26])"
      ]
     },
     "execution_count": 38,
     "metadata": {},
     "output_type": "execute_result"
    }
   ],
   "source": [
    "n12+20"
   ]
  },
  {
   "cell_type": "code",
   "execution_count": 39,
   "id": "06e9597a",
   "metadata": {},
   "outputs": [],
   "source": [
    "### ubtraction"
   ]
  },
  {
   "cell_type": "code",
   "execution_count": 40,
   "id": "3daee89d",
   "metadata": {},
   "outputs": [
    {
     "data": {
      "text/plain": [
       "array([-2, -1,  0])"
      ]
     },
     "execution_count": 40,
     "metadata": {},
     "output_type": "execute_result"
    }
   ],
   "source": [
    "n11-3"
   ]
  },
  {
   "cell_type": "code",
   "execution_count": 41,
   "id": "89d9af41",
   "metadata": {},
   "outputs": [
    {
     "data": {
      "text/plain": [
       "array([3, 4, 5])"
      ]
     },
     "execution_count": 41,
     "metadata": {},
     "output_type": "execute_result"
    }
   ],
   "source": [
    "n12-1"
   ]
  },
  {
   "cell_type": "code",
   "execution_count": 42,
   "id": "fdcaaffd",
   "metadata": {},
   "outputs": [],
   "source": [
    "# Division"
   ]
  },
  {
   "cell_type": "code",
   "execution_count": 43,
   "id": "1b13e736",
   "metadata": {},
   "outputs": [
    {
     "data": {
      "text/plain": [
       "array([0.5, 1. , 1.5])"
      ]
     },
     "execution_count": 43,
     "metadata": {},
     "output_type": "execute_result"
    }
   ],
   "source": [
    "n11/2"
   ]
  },
  {
   "cell_type": "code",
   "execution_count": 44,
   "id": "6a35df6a",
   "metadata": {},
   "outputs": [
    {
     "data": {
      "text/plain": [
       "array([1.33333333, 1.66666667, 2.        ])"
      ]
     },
     "execution_count": 44,
     "metadata": {},
     "output_type": "execute_result"
    }
   ],
   "source": [
    "n12/3"
   ]
  },
  {
   "cell_type": "code",
   "execution_count": 45,
   "id": "77920699",
   "metadata": {},
   "outputs": [],
   "source": [
    "# Multiplication"
   ]
  },
  {
   "cell_type": "code",
   "execution_count": 46,
   "id": "5782ff4c",
   "metadata": {},
   "outputs": [
    {
     "data": {
      "text/plain": [
       "array([ 4,  8, 12])"
      ]
     },
     "execution_count": 46,
     "metadata": {},
     "output_type": "execute_result"
    }
   ],
   "source": [
    "n11*4"
   ]
  },
  {
   "cell_type": "code",
   "execution_count": 47,
   "id": "2b9eff56",
   "metadata": {},
   "outputs": [
    {
     "data": {
      "text/plain": [
       "array([12, 15, 18])"
      ]
     },
     "execution_count": 47,
     "metadata": {},
     "output_type": "execute_result"
    }
   ],
   "source": [
    "n12*3"
   ]
  },
  {
   "cell_type": "markdown",
   "id": "c2ab325d",
   "metadata": {},
   "source": [
    "### Mean,Median,Standard Diviation"
   ]
  },
  {
   "cell_type": "markdown",
   "id": "2f5dc1d5",
   "metadata": {},
   "source": [
    "+ Mean"
   ]
  },
  {
   "cell_type": "code",
   "execution_count": 48,
   "id": "570e51ce",
   "metadata": {},
   "outputs": [],
   "source": [
    "n22=np.array([2,3,4,5])"
   ]
  },
  {
   "cell_type": "code",
   "execution_count": 49,
   "id": "ed89a876",
   "metadata": {},
   "outputs": [
    {
     "data": {
      "text/plain": [
       "3.5"
      ]
     },
     "execution_count": 49,
     "metadata": {},
     "output_type": "execute_result"
    }
   ],
   "source": [
    "np.mean(n22)"
   ]
  },
  {
   "cell_type": "markdown",
   "id": "26c1083a",
   "metadata": {},
   "source": [
    "+ Median"
   ]
  },
  {
   "cell_type": "code",
   "execution_count": 50,
   "id": "4bf0b9ce",
   "metadata": {},
   "outputs": [
    {
     "data": {
      "text/plain": [
       "3.5"
      ]
     },
     "execution_count": 50,
     "metadata": {},
     "output_type": "execute_result"
    }
   ],
   "source": [
    "np.median(n22)"
   ]
  },
  {
   "cell_type": "markdown",
   "id": "2a9492a1",
   "metadata": {},
   "source": [
    "+ Standard Diviasion"
   ]
  },
  {
   "cell_type": "code",
   "execution_count": 51,
   "id": "73e31d28",
   "metadata": {},
   "outputs": [
    {
     "data": {
      "text/plain": [
       "1.118033988749895"
      ]
     },
     "execution_count": 51,
     "metadata": {},
     "output_type": "execute_result"
    }
   ],
   "source": [
    "np.std(n22)"
   ]
  },
  {
   "cell_type": "markdown",
   "id": "cd7a4036",
   "metadata": {},
   "source": [
    "### Saving and Loading Numpy"
   ]
  },
  {
   "cell_type": "code",
   "execution_count": 52,
   "id": "9172d530",
   "metadata": {},
   "outputs": [],
   "source": [
    "n32=np.array([23,3,4,56,7,4,6677,5])"
   ]
  },
  {
   "cell_type": "code",
   "execution_count": 53,
   "id": "9944cda9",
   "metadata": {},
   "outputs": [],
   "source": [
    "np.save('my_numpyarray',n32)"
   ]
  },
  {
   "cell_type": "code",
   "execution_count": 54,
   "id": "f25040d4",
   "metadata": {},
   "outputs": [],
   "source": [
    "n33=np.load('my_numpyarray.npy')"
   ]
  },
  {
   "cell_type": "code",
   "execution_count": 55,
   "id": "365576ae",
   "metadata": {},
   "outputs": [
    {
     "data": {
      "text/plain": [
       "array([  23,    3,    4,   56,    7,    4, 6677,    5])"
      ]
     },
     "execution_count": 55,
     "metadata": {},
     "output_type": "execute_result"
    }
   ],
   "source": [
    "n32"
   ]
  },
  {
   "cell_type": "code",
   "execution_count": 56,
   "id": "0e573958",
   "metadata": {},
   "outputs": [],
   "source": [
    "n1=([2,3,4])\n",
    "np.save('mine_array',n1)"
   ]
  },
  {
   "cell_type": "code",
   "execution_count": 57,
   "id": "6b525b98",
   "metadata": {},
   "outputs": [],
   "source": [
    "n2=np.load('mine_array.npy')"
   ]
  },
  {
   "cell_type": "code",
   "execution_count": 58,
   "id": "27ae0b0a",
   "metadata": {},
   "outputs": [
    {
     "data": {
      "text/plain": [
       "[2, 3, 4]"
      ]
     },
     "execution_count": 58,
     "metadata": {},
     "output_type": "execute_result"
    }
   ],
   "source": [
    "n1"
   ]
  }
 ],
 "metadata": {
  "kernelspec": {
   "display_name": "Python 3 (ipykernel)",
   "language": "python",
   "name": "python3"
  },
  "language_info": {
   "codemirror_mode": {
    "name": "ipython",
    "version": 3
   },
   "file_extension": ".py",
   "mimetype": "text/x-python",
   "name": "python",
   "nbconvert_exporter": "python",
   "pygments_lexer": "ipython3",
   "version": "3.8.12"
  }
 },
 "nbformat": 4,
 "nbformat_minor": 5
}
